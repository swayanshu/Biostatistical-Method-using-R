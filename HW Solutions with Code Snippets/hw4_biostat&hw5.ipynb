{
 "cells": [
  {
   "cell_type": "markdown",
   "metadata": {},
   "source": [
    "For the null hypothesis that the mean change in beta carotene is 0 mcg/dL and the alternative hypothesis\n",
    "that the mean change in beta carotene is 100 mcg/dL, with \u001bchange = 75 mcg/dL and n = 5, what is the\n",
    "power to detect that difference, using \u000b",
    " = 0.05 (two-sided)? Assume two cases: known s.d. and unknown s.d"
   ]
  },
  {
   "cell_type": "markdown",
   "metadata": {},
   "source": [
    "# 1 - Known σ"
   ]
  },
  {
   "cell_type": "code",
   "execution_count": 25,
   "metadata": {},
   "outputs": [
    {
     "data": {
      "text/html": [
       "0.84648172104949"
      ],
      "text/latex": [
       "0.84648172104949"
      ],
      "text/markdown": [
       "0.84648172104949"
      ],
      "text/plain": [
       "[1] 0.8464817"
      ]
     },
     "metadata": {},
     "output_type": "display_data"
    }
   ],
   "source": [
    "#The change is actually 100. 75 is the standard deviation. So it will be\n",
    "PowerZ <- function(diff = 100, sd = 75, n = 5, alpha = 0.05) { \n",
    "    z.alpha <- qnorm(1 - (alpha/2))\n",
    "    power <- pnorm( abs(diff) / (sd/sqrt(n) ) - z.alpha)\n",
    "    return(power)\n",
    "}\n",
    "PowerZ( diff=100, sd=75, n=5, alpha=0.05)"
   ]
  },
  {
   "cell_type": "markdown",
   "metadata": {},
   "source": [
    "# Unknown  sd"
   ]
  },
  {
   "cell_type": "code",
   "execution_count": 31,
   "metadata": {},
   "outputs": [
    {
     "data": {
      "text/plain": [
       "\n",
       "     One-sample t test power calculation \n",
       "\n",
       "              n = 5\n",
       "          delta = 100\n",
       "             sd = 75\n",
       "      sig.level = 0.05\n",
       "          power = 0.6141832\n",
       "    alternative = two.sided\n"
      ]
     },
     "metadata": {},
     "output_type": "display_data"
    }
   ],
   "source": [
    "pwrt_unknownsd <- power.t.test(n = 5, sd = 75, sig.level = 0.05, delta = 100, type = \"one.sample\", alternative = \"two.sided\")\n",
    "pwrt_unknownsd "
   ]
  },
  {
   "cell_type": "code",
   "execution_count": 32,
   "metadata": {},
   "outputs": [
    {
     "data": {
      "text/html": [
       "0.614183212947759"
      ],
      "text/latex": [
       "0.614183212947759"
      ],
      "text/markdown": [
       "0.614183212947759"
      ],
      "text/plain": [
       "[1] 0.6141832"
      ]
     },
     "metadata": {},
     "output_type": "display_data"
    }
   ],
   "source": [
    "pwrt_unknownsd$power"
   ]
  },
  {
   "cell_type": "code",
   "execution_count": null,
   "metadata": {},
   "outputs": [],
   "source": []
  },
  {
   "cell_type": "code",
   "execution_count": null,
   "metadata": {},
   "outputs": [],
   "source": [
    "So the change is actually 100. 75 is the standard deviation. So it will be\n",
    "\n",
    "diff = 100, sd = 75, n = 5, alpha = 0.05\n",
    "n = 5, sd = 75, sig.level = 0.05, delta = 100, type = \"one.sample\", alternative = \"two.sided\""
   ]
  },
  {
   "cell_type": "code",
   "execution_count": 46,
   "metadata": {},
   "outputs": [
    {
     "data": {
      "text/html": [
       "0.801598525862662"
      ],
      "text/latex": [
       "0.801598525862662"
      ],
      "text/markdown": [
       "0.801598525862662"
      ],
      "text/plain": [
       "[1] 0.8015985"
      ]
     },
     "metadata": {},
     "output_type": "display_data"
    }
   ],
   "source": [
    "PowerZ( diff=94.16, sd=75, n=5, alpha=0.05)"
   ]
  },
  {
   "cell_type": "code",
   "execution_count": null,
   "metadata": {},
   "outputs": [],
   "source": []
  },
  {
   "cell_type": "code",
   "execution_count": 57,
   "metadata": {},
   "outputs": [
    {
     "data": {
      "text/plain": [
       "\n",
       "     One-sample t test power calculation \n",
       "\n",
       "              n = 5\n",
       "          delta = 126.1498\n",
       "             sd = 75\n",
       "      sig.level = 0.05\n",
       "          power = 0.8\n",
       "    alternative = two.sided\n"
      ]
     },
     "metadata": {},
     "output_type": "display_data"
    }
   ],
   "source": [
    "power.t.test(n=5, sd=75, power=0.8, sig.level=0.05, delta=NULL, type=\"one.sample\", alternative=\"two.sided\")# view all output"
   ]
  },
  {
   "cell_type": "code",
   "execution_count": null,
   "metadata": {},
   "outputs": [],
   "source": []
  },
  {
   "cell_type": "code",
   "execution_count": null,
   "metadata": {},
   "outputs": [],
   "source": []
  },
  {
   "cell_type": "markdown",
   "metadata": {},
   "source": [
    "# 3a"
   ]
  },
  {
   "cell_type": "code",
   "execution_count": 33,
   "metadata": {},
   "outputs": [
    {
     "data": {
      "text/html": [
       "0.0498"
      ],
      "text/latex": [
       "0.0498"
      ],
      "text/markdown": [
       "0.0498"
      ],
      "text/plain": [
       "[1] 0.0498"
      ]
     },
     "metadata": {},
     "output_type": "display_data"
    }
   ],
   "source": [
    "set.seed(2345)\n",
    "n <- 5\n",
    "mean <- 0\n",
    "sd <- 75\n",
    "numTrials <- 10000\n",
    "alpha <- .05\n",
    "count<- 0 # Set a counter to determine the number of rejected hypothesis tests\n",
    "for( i in 1:numTrials){\n",
    "  y <- rnorm(n=n, mean=0, sd=sd) # generate sample from desired distribution\n",
    "  # Perform test\n",
    "  t <- t.test(y, alternative = \"two.sided\")\n",
    "  count <- count + (t$p.value < alpha)\n",
    "}\n",
    "# Power = proportion of rejections\n",
    "power <- count/numTrials\n",
    "power"
   ]
  },
  {
   "cell_type": "code",
   "execution_count": 47,
   "metadata": {},
   "outputs": [
    {
     "data": {
      "text/html": [
       "0.673226959485679"
      ],
      "text/latex": [
       "0.673226959485679"
      ],
      "text/markdown": [
       "0.673226959485679"
      ],
      "text/plain": [
       "[1] 0.673227"
      ]
     },
     "metadata": {},
     "output_type": "display_data"
    }
   ],
   "source": [
    "set.seed(2345)\n",
    "\n",
    "y <- rnorm(n=5, mean=0, sd=75)\n",
    "tstat <- -1 * abs( (mean(y)-0) / (sd(y)/sqrt(n)) )\n",
    "pt( tstat, df=n-1) * 2 # our p-value"
   ]
  },
  {
   "cell_type": "code",
   "execution_count": 48,
   "metadata": {},
   "outputs": [
    {
     "data": {
      "text/html": [
       "0.673226959485679"
      ],
      "text/latex": [
       "0.673226959485679"
      ],
      "text/markdown": [
       "0.673226959485679"
      ],
      "text/plain": [
       "[1] 0.673227"
      ]
     },
     "metadata": {},
     "output_type": "display_data"
    }
   ],
   "source": [
    "# Compare to the t-test\n",
    "t.test(y, mu = 0, alternative = \"two.sided\")$p.value"
   ]
  },
  {
   "cell_type": "code",
   "execution_count": null,
   "metadata": {},
   "outputs": [],
   "source": []
  },
  {
   "cell_type": "code",
   "execution_count": 36,
   "metadata": {
    "scrolled": true
   },
   "outputs": [
    {
     "data": {
      "image/png": "[encoded data removed]",
      "text/plain": [
       "Plot with title \"Histogram of power\""
      ]
     },
     "metadata": {},
     "output_type": "display_data"
    }
   ],
   "source": [
    "hist( power, xlab='p-value' )"
   ]
  },
  {
   "cell_type": "raw",
   "metadata": {},
   "source": [
    "Here we got Power as 0.0498 that means nearly 4.9% of the result is False positive.\n",
    "Only 4.9% is incorrectly rejected Null hypothesis"
   ]
  },
  {
   "cell_type": "markdown",
   "metadata": {},
   "source": [
    "# Scenario 2:\n",
    "Use simulation to obtain a power estimate when the alternative hypothesis assumes the mean\n",
    "change is 100 mcg/dL. Use 10,000 iterations and the seed value 1796."
   ]
  },
  {
   "cell_type": "markdown",
   "metadata": {},
   "source": [
    "# Alternative Hypotheses"
   ]
  },
  {
   "cell_type": "code",
   "execution_count": 43,
   "metadata": {},
   "outputs": [
    {
     "data": {
      "text/html": [
       "0.613"
      ],
      "text/latex": [
       "0.613"
      ],
      "text/markdown": [
       "0.613"
      ],
      "text/plain": [
       "[1] 0.613"
      ]
     },
     "metadata": {},
     "output_type": "display_data"
    }
   ],
   "source": [
    "set.seed(1796)\n",
    "n <- 5\n",
    "mean <- 100\n",
    "sd <- 75\n",
    "numTrials <- 10000\n",
    "alpha <- .05\n",
    "count<- 0 # Set a counter to determine the number of rejected hypothesis tests\n",
    "for( i in 1:numTrials){\n",
    "  y <- rnorm(n=n, mean=100, sd=sd) # generate sample from desired distribution\n",
    "  # Perform test\n",
    "  t <- t.test(y, alternative = \"two.sided\")\n",
    " \n",
    "  count <- count + (t$p.value < alpha)\n",
    "  \n",
    "}\n",
    "# Power = proportion of rejections\n",
    "power <- count/numTrials\n",
    "power"
   ]
  },
  {
   "cell_type": "code",
   "execution_count": 38,
   "metadata": {},
   "outputs": [
    {
     "data": {
      "text/html": [
       "<ol class=list-inline>\n",
       "\t<li>0</li>\n",
       "\t<li>100</li>\n",
       "</ol>\n"
      ],
      "text/latex": [
       "\\begin{enumerate*}\n",
       "\\item 0\n",
       "\\item 100\n",
       "\\end{enumerate*}\n"
      ],
      "text/markdown": [
       "1. 0\n",
       "2. 100\n",
       "\n",
       "\n"
      ],
      "text/plain": [
       "[1]   0 100"
      ]
     },
     "metadata": {},
     "output_type": "display_data"
    }
   ],
   "source": [
    "mean <- c(0,100) \n",
    "mean"
   ]
  },
  {
   "cell_type": "code",
   "execution_count": 37,
   "metadata": {
    "scrolled": true
   },
   "outputs": [
    {
     "data": {
      "image/png": "[encoded data removed]",
      "text/plain": [
       "Plot with title \"H1: Mean of 100\""
      ]
     },
     "metadata": {},
     "output_type": "display_data"
    }
   ],
   "source": [
    "set.seed(1796)\n",
    "n <- 5\n",
    "mean <- c(0,100) \n",
    "sd <- 75\n",
    "numTrials <-10000\n",
    "alpha <- 0.05 \n",
    "  \n",
    "# For this for loop, we will save the p-value from each t.test result \n",
    "pvec <- rep(NA, numTrials)\n",
    "for(i in 1:numTrials){\n",
    "  y <- rnorm(n,mean,sd) # simulate the data for the i-th simulation\n",
    "  t <- t.test(y, mu = 0, alternative = \"two.sided\") # conduct a one-sample, two-sided t-test\n",
    "  pvec[i] <- t$p.value\n",
    "}\n",
    "\n",
    "hist( pvec, xlab='p-value', main='H1: Mean of 100' )"
   ]
  },
  {
   "cell_type": "code",
   "execution_count": 5,
   "metadata": {},
   "outputs": [
    {
     "name": "stderr",
     "output_type": "stream",
     "text": [
      "also installing the dependency 'BiasedUrn'\n",
      "\n"
     ]
    },
    {
     "name": "stdout",
     "output_type": "stream",
     "text": [
      "package 'BiasedUrn' successfully unpacked and MD5 sums checked\n",
      "package 'epiR' successfully unpacked and MD5 sums checked\n",
      "\n",
      "The downloaded binary packages are in\n",
      "\tC:\\Users\\Swayanshu\\AppData\\Local\\Temp\\RtmpyY7H7f\\downloaded_packages\n"
     ]
    }
   ],
   "source": [
    "install.packages(\"epiR\")"
   ]
  },
  {
   "cell_type": "code",
   "execution_count": 4,
   "metadata": {},
   "outputs": [
    {
     "name": "stderr",
     "output_type": "stream",
     "text": [
      "Warning message:\n",
      "\"package 'epiR' was built under R version 3.6.3\"Loading required package: survival\n",
      "Warning message:\n",
      "\"package 'survival' was built under R version 3.6.3\"Package epiR 1.0-15 is loaded\n",
      "Type help(epi.about) for summary information\n",
      "Type browseVignettes(package = 'epiR') to learn how to use epiR for applied epidemiological analyses\n",
      "\n",
      "\n"
     ]
    }
   ],
   "source": [
    "library(epiR)"
   ]
  },
  {
   "cell_type": "code",
   "execution_count": null,
   "metadata": {},
   "outputs": [],
   "source": [
    "matrix( c(65,15,72,48), nrow=2, byrow=T)"
   ]
  },
  {
   "cell_type": "code",
   "execution_count": 1,
   "metadata": {},
   "outputs": [],
   "source": [
    "lc <-as.table(matrix(c(681,784,3299,2327) ,nrow=2,byrow=T))\n",
    "dimnames(lc)<-list(groups=c(\"A\",\"B\"), x=c(\"Yes\",\"No\"))"
   ]
  },
  {
   "cell_type": "code",
   "execution_count": 2,
   "metadata": {},
   "outputs": [
    {
     "data": {
      "text/plain": [
       "      x\n",
       "groups  Yes   No\n",
       "     A  681  784\n",
       "     B 3299 2327"
      ]
     },
     "metadata": {},
     "output_type": "display_data"
    }
   ],
   "source": [
    "lc"
   ]
  },
  {
   "cell_type": "code",
   "execution_count": 51,
   "metadata": {},
   "outputs": [
    {
     "ename": "ERROR",
     "evalue": "Error in parse(text = x, srcfile = src): <text>:1:10: unexpected symbol\n1: !install package\n             ^\n",
     "output_type": "error",
     "traceback": [
      "Error in parse(text = x, srcfile = src): <text>:1:10: unexpected symbol\n1: !install package\n             ^\nTraceback:\n"
     ]
    }
   ],
   "source": [
    "!install package(\"Publish\")"
   ]
  },
  {
   "cell_type": "code",
   "execution_count": 5,
   "metadata": {},
   "outputs": [
    {
     "data": {
      "text/plain": [
       "             Outcome +    Outcome -      Total        Inc risk *        Odds\n",
       "Exposed +          681          784       1465              46.5       0.869\n",
       "Exposed -         3299         2327       5626              58.6       1.418\n",
       "Total             3980         3111       7091              56.1       1.279\n",
       "\n",
       "Point estimates and 95% CIs:\n",
       "-------------------------------------------------------------------\n",
       "Inc risk ratio                               0.79 (0.75, 0.84)\n",
       "Odds ratio                                   0.61 (0.55, 0.69)\n",
       "Attrib risk *                                -12.15 (-15.01, -9.29)\n",
       "Attrib risk in population *                  -2.51 (-4.24, -0.78)\n",
       "Attrib fraction in exposed (%)               -26.15 (-33.83, -18.90)\n",
       "Attrib fraction in population (%)            -4.47 (-5.56, -3.40)\n",
       "-------------------------------------------------------------------\n",
       " Test that OR = 1: chi2(1) = 69.725 Pr>chi2 = <0.001\n",
       " Wald confidence limits\n",
       " CI: confidence interval\n",
       " * Outcomes per 100 population units "
      ]
     },
     "metadata": {},
     "output_type": "display_data"
    }
   ],
   "source": [
    "epi.2by2(lc)"
   ]
  },
  {
   "cell_type": "code",
   "execution_count": 6,
   "metadata": {},
   "outputs": [
    {
     "data": {
      "text/plain": [
       "          Outcome +    Outcome -      Total\n",
       "Test +          681          784       1465\n",
       "Test -         3299         2327       5626\n",
       "Total          3980         3111       7091\n",
       "\n",
       "Point estimates and 95 % CIs:\n",
       "---------------------------------------------------------\n",
       "Apparent prevalence                    0.21 (0.20, 0.22)\n",
       "True prevalence                        0.56 (0.55, 0.57)\n",
       "Sensitivity                            0.17 (0.16, 0.18)\n",
       "Specificity                            0.75 (0.73, 0.76)\n",
       "Positive predictive value              0.46 (0.44, 0.49)\n",
       "Negative predictive value              0.41 (0.40, 0.43)\n",
       "Positive likelihood ratio              0.68 (0.62, 0.74)\n",
       "Negative likelihood ratio              1.11 (1.08, 1.14)\n",
       "---------------------------------------------------------"
      ]
     },
     "metadata": {},
     "output_type": "display_data"
    }
   ],
   "source": [
    "epi.tests(lc)"
   ]
  },
  {
   "cell_type": "markdown",
   "metadata": {},
   "source": [
    "# X^2 Test of Independence"
   ]
  },
  {
   "cell_type": "code",
   "execution_count": 20,
   "metadata": {},
   "outputs": [
    {
     "data": {
      "text/plain": [
       "\n",
       "\tPearson's Chi-squared test\n",
       "\n",
       "data:  lc\n",
       "X-squared = 10.045, df = 1, p-value = 0.001527\n"
      ]
     },
     "metadata": {},
     "output_type": "display_data"
    }
   ],
   "source": [
    "chisq.test(lc, correct=F)"
   ]
  },
  {
   "cell_type": "code",
   "execution_count": 21,
   "metadata": {},
   "outputs": [
    {
     "data": {
      "text/plain": [
       "\n",
       "\tPearson's Chi-squared test with Yates' continuity correction\n",
       "\n",
       "data:  lc\n",
       "X-squared = 9.0845, df = 1, p-value = 0.002578\n"
      ]
     },
     "metadata": {},
     "output_type": "display_data"
    }
   ],
   "source": [
    "chisq.test(lc, correct=T)"
   ]
  },
  {
   "cell_type": "code",
   "execution_count": 22,
   "metadata": {},
   "outputs": [
    {
     "data": {
      "text/plain": [
       "\n",
       "\tFisher's Exact Test for Count Data\n",
       "\n",
       "data:  lc\n",
       "p-value = 0.001799\n",
       "alternative hypothesis: true odds ratio is not equal to 1\n",
       "95 percent confidence interval:\n",
       " 1.420827 6.074658\n",
       "sample estimates:\n",
       "odds ratio \n",
       "   2.87396 \n"
      ]
     },
     "metadata": {},
     "output_type": "display_data"
    }
   ],
   "source": [
    "fisher.test(lc)"
   ]
  },
  {
   "cell_type": "markdown",
   "metadata": {},
   "source": [
    "# McNemar's Chi-squared test with no correction"
   ]
  },
  {
   "cell_type": "code",
   "execution_count": 23,
   "metadata": {},
   "outputs": [
    {
     "data": {
      "text/plain": [
       "\n",
       "\tMcNemar's Chi-squared test\n",
       "\n",
       "data:  lc\n",
       "McNemar's chi-squared = 37.345, df = 1, p-value = 9.898e-10\n"
      ]
     },
     "metadata": {},
     "output_type": "display_data"
    }
   ],
   "source": [
    "lc <-as.table(matrix(c(65,15,72,48) ,ncol=2,byrow=T))\n",
    "dimnames(lc)<-list(groups=c(\"A\",\"B\"), x=c(\"Yes\",\"No\"))\n",
    "\n",
    "mcnemar.test(lc, correct=F) # no correction"
   ]
  },
  {
   "cell_type": "markdown",
   "metadata": {},
   "source": [
    "# McNemar's Chi-squared test with w/continuity correction"
   ]
  },
  {
   "cell_type": "code",
   "execution_count": 25,
   "metadata": {},
   "outputs": [
    {
     "data": {
      "text/plain": [
       "\n",
       "\tMcNemar's Chi-squared test with continuity correction\n",
       "\n",
       "data:  lc\n",
       "McNemar's chi-squared = 36.046, df = 1, p-value = 1.927e-09\n"
      ]
     },
     "metadata": {},
     "output_type": "display_data"
    }
   ],
   "source": [
    "lc <-as.table(matrix(c(65,15,72,48) ,ncol=2,byrow=T))\n",
    "dimnames(lc)<-list(groups=c(\"A\",\"B\"), x=c(\"Yes\",\"No\"))\n",
    "\n",
    "mcnemar.test(lc, correct=T) # w/continuity correction"
   ]
  },
  {
   "cell_type": "code",
   "execution_count": 3,
   "metadata": {},
   "outputs": [
    {
     "ename": "ERROR",
     "evalue": "Error in t1$cmms_sc: $ operator is invalid for atomic vectors\n",
     "output_type": "error",
     "traceback": [
      "Error in t1$cmms_sc: $ operator is invalid for atomic vectors\nTraceback:\n",
      "1. t1[which(t1$cmms_sc <= 20), c(\"nondemented\", \"demented\")]",
      "2. `[.table`(t1, which(t1$cmms_sc <= 20), c(\"nondemented\", \"demented\"))",
      "3. NextMethod()",
      "4. which(t1$cmms_sc <= 20)"
     ]
    }
   ],
   "source": [
    "score20 <- t1[which(t1$cmms_sc<=20), c(\"nondemented\",\"demented\")]"
   ]
  },
  {
   "cell_type": "code",
   "execution_count": 4,
   "metadata": {},
   "outputs": [
    {
     "data": {
      "text/plain": [
       "  cmms_sc nondemented demented\n",
       "A       5           0        2\n",
       "B      10           0        1\n",
       "C      15           3        4\n",
       "D      20           9        5"
      ]
     },
     "metadata": {},
     "output_type": "display_data"
    }
   ],
   "source": []
  },
  {
   "cell_type": "code",
   "execution_count": 34,
   "metadata": {},
   "outputs": [],
   "source": [
    "dat1 <- read.csv('D:/3rd_Semester/6611_biostatisticalmethod/hw5/d.csv')"
   ]
  },
  {
   "cell_type": "code",
   "execution_count": 36,
   "metadata": {
    "scrolled": true
   },
   "outputs": [
    {
     "data": {
      "text/html": [
       "<table>\n",
       "<thead><tr><th scope=col>cmms_score</th><th scope=col>dementia</th></tr></thead>\n",
       "<tbody>\n",
       "\t<tr><td> 5</td><td>1 </td></tr>\n",
       "\t<tr><td> 5</td><td>1 </td></tr>\n",
       "\t<tr><td>10</td><td>1 </td></tr>\n",
       "\t<tr><td>15</td><td>0 </td></tr>\n",
       "\t<tr><td>15</td><td>0 </td></tr>\n",
       "\t<tr><td>15</td><td>0 </td></tr>\n",
       "</tbody>\n",
       "</table>\n"
      ],
      "text/latex": [
       "\\begin{tabular}{r|ll}\n",
       " cmms\\_score & dementia\\\\\n",
       "\\hline\n",
       "\t  5 & 1 \\\\\n",
       "\t  5 & 1 \\\\\n",
       "\t 10 & 1 \\\\\n",
       "\t 15 & 0 \\\\\n",
       "\t 15 & 0 \\\\\n",
       "\t 15 & 0 \\\\\n",
       "\\end{tabular}\n"
      ],
      "text/markdown": [
       "\n",
       "| cmms_score | dementia |\n",
       "|---|---|\n",
       "|  5 | 1  |\n",
       "|  5 | 1  |\n",
       "| 10 | 1  |\n",
       "| 15 | 0  |\n",
       "| 15 | 0  |\n",
       "| 15 | 0  |\n",
       "\n"
      ],
      "text/plain": [
       "  cmms_score dementia\n",
       "1  5         1       \n",
       "2  5         1       \n",
       "3 10         1       \n",
       "4 15         0       \n",
       "5 15         0       \n",
       "6 15         0       "
      ]
     },
     "metadata": {},
     "output_type": "display_data"
    }
   ],
   "source": [
    "head(dat1)"
   ]
  },
  {
   "cell_type": "code",
   "execution_count": 37,
   "metadata": {
    "scrolled": true
   },
   "outputs": [
    {
     "name": "stderr",
     "output_type": "stream",
     "text": [
      "Warning message in roc.default(response, predictors[, 1], ...):\n",
      "\"'response' has more than two levels. Consider setting 'levels' explicitly or using 'multiclass.roc' instead\"Setting levels: control = 5, case = 10\n",
      "Setting direction: controls < cases\n"
     ]
    },
    {
     "data": {
      "image/png": "[encoded data removed]",
      "text/plain": [
       "plot without title"
      ]
     },
     "metadata": {},
     "output_type": "display_data"
    }
   ],
   "source": [
    "library(pROC)\n",
    "roc3 <- roc(cmms_score ~ dementia, data=dat1)\n",
    "plot(roc3)"
   ]
  },
  {
   "cell_type": "code",
   "execution_count": 39,
   "metadata": {},
   "outputs": [],
   "source": [
    "roc_binormal <- rocit(score = dat1$cmms_score, \n",
    "                      class = dat1$dementia,\n",
    "                      method = \"bin\") "
   ]
  },
  {
   "cell_type": "code",
   "execution_count": 40,
   "metadata": {},
   "outputs": [
    {
     "name": "stdout",
     "output_type": "stream",
     "text": [
      "                          \n",
      " Method used: binormal    \n",
      " Number of positive(s): 16\n",
      " Number of negative(s): 46\n",
      " Area under curve: 0.8191 \n"
     ]
    }
   ],
   "source": [
    "summary(roc_binormal)"
   ]
  },
  {
   "cell_type": "code",
   "execution_count": 42,
   "metadata": {},
   "outputs": [
    {
     "data": {
      "image/png": "[encoded data removed]",
      "text/plain": [
       "plot without title"
      ]
     },
     "metadata": {},
     "output_type": "display_data"
    }
   ],
   "source": [
    "plot(roc_binormal, values = T)"
   ]
  },
  {
   "cell_type": "code",
   "execution_count": 43,
   "metadata": {},
   "outputs": [
    {
     "data": {
      "image/png": "[encoded data removed]",
      "text/plain": [
       "plot without title"
      ]
     },
     "metadata": {},
     "output_type": "display_data"
    }
   ],
   "source": [
    "plot(roc_binormal, YIndex = F, \n",
    "     values = F, col = c(2,4))"
   ]
  },
  {
   "cell_type": "code",
   "execution_count": null,
   "metadata": {},
   "outputs": [],
   "source": []
  },
  {
   "cell_type": "code",
   "execution_count": null,
   "metadata": {},
   "outputs": [],
   "source": []
  },
  {
   "cell_type": "code",
   "execution_count": 31,
   "metadata": {},
   "outputs": [
    {
     "data": {
      "text/html": [
       "<table>\n",
       "<thead><tr><th></th><th scope=col>cmms_sc</th><th scope=col>nondemented</th><th scope=col>demented</th></tr></thead>\n",
       "<tbody>\n",
       "\t<tr><th scope=row>A</th><td> 5</td><td>0 </td><td>2 </td></tr>\n",
       "\t<tr><th scope=row>B</th><td>10</td><td>0 </td><td>1 </td></tr>\n",
       "\t<tr><th scope=row>C</th><td>15</td><td>3 </td><td>4 </td></tr>\n",
       "\t<tr><th scope=row>D</th><td>20</td><td>9 </td><td>5 </td></tr>\n",
       "</tbody>\n",
       "</table>\n"
      ],
      "text/latex": [
       "\\begin{tabular}{r|lll}\n",
       "  & cmms\\_sc & nondemented & demented\\\\\n",
       "\\hline\n",
       "\tA &  5 & 0  & 2 \\\\\n",
       "\tB & 10 & 0  & 1 \\\\\n",
       "\tC & 15 & 3  & 4 \\\\\n",
       "\tD & 20 & 9  & 5 \\\\\n",
       "\\end{tabular}\n"
      ],
      "text/markdown": [
       "\n",
       "| <!--/--> | cmms_sc | nondemented | demented |\n",
       "|---|---|---|---|\n",
       "| A |  5 | 0  | 2  |\n",
       "| B | 10 | 0  | 1  |\n",
       "| C | 15 | 3  | 4  |\n",
       "| D | 20 | 9  | 5  |\n",
       "\n"
      ],
      "text/plain": [
       "  cmms_sc nondemented demented\n",
       "A  5      0           2       \n",
       "B 10      0           1       \n",
       "C 15      3           4       \n",
       "D 20      9           5       "
      ]
     },
     "metadata": {},
     "output_type": "display_data"
    }
   ],
   "source": [
    "t2 <- matrix(c(5,0,2,10,0,1,15,3,4,20,9,5),ncol=3,byrow=TRUE)\n",
    "colnames(t2) <- c(\"cmms_sc\",\"nondemented\",\"demented\")\n",
    "#rownames(smoke) <- c(\"current\",\"former\",\"never\")\n",
    "t2 <- as.table(t2)\n",
    "t2 <- as.data.frame.matrix(t2) \n",
    "t2"
   ]
  },
  {
   "cell_type": "code",
   "execution_count": 8,
   "metadata": {},
   "outputs": [
    {
     "data": {
      "text/plain": [
       "   A  B\n",
       "A 12 12\n",
       "B  4 34"
      ]
     },
     "metadata": {},
     "output_type": "display_data"
    }
   ],
   "source": [
    "cmms_t1 <- as.table(matrix (c(12,12,4,34), ncol=2, byrow=T))\n",
    "cmms_t1"
   ]
  },
  {
   "cell_type": "code",
   "execution_count": 11,
   "metadata": {},
   "outputs": [
    {
     "data": {
      "text/plain": [
       "             Outcome +    Outcome -      Total        Inc risk *        Odds\n",
       "Exposed +           12           12         24              50.0       1.000\n",
       "Exposed -            4           34         38              10.5       0.118\n",
       "Total               16           46         62              25.8       0.348\n",
       "\n",
       "Point estimates and 95% CIs:\n",
       "-------------------------------------------------------------------\n",
       "Inc risk ratio                               4.75 (1.73, 13.04)\n",
       "Odds ratio                                   8.50 (2.30, 31.47)\n",
       "Attrib risk *                                39.47 (17.22, 61.73)\n",
       "Attrib risk in population *                  15.28 (0.66, 29.90)\n",
       "Attrib fraction in exposed (%)               78.95 (42.22, 92.33)\n",
       "Attrib fraction in population (%)            59.21 (11.05, 81.29)\n",
       "-------------------------------------------------------------------\n",
       " Test that OR = 1: chi2(1) = 11.971 Pr>chi2 = <0.001\n",
       " Wald confidence limits\n",
       " CI: confidence interval\n",
       " * Outcomes per 100 population units "
      ]
     },
     "metadata": {},
     "output_type": "display_data"
    }
   ],
   "source": [
    "epi.2by2(cmms_t1)"
   ]
  },
  {
   "cell_type": "code",
   "execution_count": 12,
   "metadata": {},
   "outputs": [
    {
     "data": {
      "text/plain": [
       "          Outcome +    Outcome -      Total\n",
       "Test +           12           12         24\n",
       "Test -            4           34         38\n",
       "Total            16           46         62\n",
       "\n",
       "Point estimates and 95 % CIs:\n",
       "---------------------------------------------------------\n",
       "Apparent prevalence                    0.39 (0.27, 0.52)\n",
       "True prevalence                        0.26 (0.16, 0.38)\n",
       "Sensitivity                            0.75 (0.48, 0.93)\n",
       "Specificity                            0.74 (0.59, 0.86)\n",
       "Positive predictive value              0.50 (0.29, 0.71)\n",
       "Negative predictive value              0.89 (0.75, 0.97)\n",
       "Positive likelihood ratio              2.87 (1.64, 5.05)\n",
       "Negative likelihood ratio              0.34 (0.14, 0.80)\n",
       "---------------------------------------------------------"
      ]
     },
     "metadata": {},
     "output_type": "display_data"
    }
   ],
   "source": [
    "epi.tests(cmms_t1)"
   ]
  },
  {
   "cell_type": "code",
   "execution_count": 15,
   "metadata": {},
   "outputs": [
    {
     "data": {
      "text/html": [
       "<table>\n",
       "<thead><tr><th></th><th scope=col>A</th><th scope=col>B</th></tr></thead>\n",
       "<tbody>\n",
       "\t<tr><th scope=row>A</th><td>12</td><td>12</td></tr>\n",
       "\t<tr><th scope=row>B</th><td> 4</td><td>34</td></tr>\n",
       "</tbody>\n",
       "</table>\n"
      ],
      "text/latex": [
       "\\begin{tabular}{r|ll}\n",
       "  & A & B\\\\\n",
       "\\hline\n",
       "\tA & 12 & 12\\\\\n",
       "\tB &  4 & 34\\\\\n",
       "\\end{tabular}\n"
      ],
      "text/markdown": [
       "\n",
       "| <!--/--> | A | B |\n",
       "|---|---|---|\n",
       "| A | 12 | 12 |\n",
       "| B |  4 | 34 |\n",
       "\n"
      ],
      "text/plain": [
       "  A  B \n",
       "A 12 12\n",
       "B  4 34"
      ]
     },
     "metadata": {},
     "output_type": "display_data"
    }
   ],
   "source": [
    "t2 <- as.data.frame.matrix(cmms_t1)\n",
    "t2"
   ]
  },
  {
   "cell_type": "code",
   "execution_count": null,
   "metadata": {},
   "outputs": [],
   "source": []
  },
  {
   "cell_type": "code",
   "execution_count": 41,
   "metadata": {},
   "outputs": [
    {
     "name": "stdout",
     "output_type": "stream",
     "text": [
      "package 'pROC' successfully unpacked and MD5 sums checked\n",
      "\n",
      "The downloaded binary packages are in\n",
      "\tC:\\Users\\Swayanshu\\AppData\\Local\\Temp\\Rtmp0MkSJB\\downloaded_packages\n"
     ]
    }
   ],
   "source": [
    "install.packages(\"pROC\")"
   ]
  },
  {
   "cell_type": "code",
   "execution_count": 13,
   "metadata": {},
   "outputs": [
    {
     "name": "stderr",
     "output_type": "stream",
     "text": [
      "Warning message:\n",
      "\"package 'pROC' was built under R version 3.6.3\"Type 'citation(\"pROC\")' for a citation.\n",
      "\n",
      "Attaching package: 'pROC'\n",
      "\n",
      "The following objects are masked from 'package:stats':\n",
      "\n",
      "    cov, smooth, var\n",
      "\n"
     ]
    }
   ],
   "source": [
    "library(pROC)"
   ]
  },
  {
   "cell_type": "code",
   "execution_count": 18,
   "metadata": {
    "scrolled": false
   },
   "outputs": [
    {
     "name": "stderr",
     "output_type": "stream",
     "text": [
      "Setting levels: control = 4, case = 12\n",
      "Setting direction: controls > cases\n"
     ]
    },
    {
     "data": {
      "image/png": "[encoded data removed]",
      "text/plain": [
       "plot without title"
      ]
     },
     "metadata": {},
     "output_type": "display_data"
    }
   ],
   "source": [
    "roc3 <- roc(A ~ B, data=t2)\n",
    "plot(roc3)"
   ]
  },
  {
   "cell_type": "code",
   "execution_count": 33,
   "metadata": {},
   "outputs": [
    {
     "name": "stderr",
     "output_type": "stream",
     "text": [
      "Warning message in roc.default(response, predictors[, 1], ...):\n",
      "\"'response' has more than two levels. Consider setting 'levels' explicitly or using 'multiclass.roc' instead\"Setting levels: control = 0, case = 3\n",
      "Setting direction: controls < cases\n"
     ]
    },
    {
     "data": {
      "image/png": "[encoded data removed]",
      "text/plain": [
       "plot without title"
      ]
     },
     "metadata": {},
     "output_type": "display_data"
    }
   ],
   "source": [
    "roc3 <- roc(nondemented ~ demented, data=t2)\n",
    "plot(roc3)"
   ]
  },
  {
   "cell_type": "code",
   "execution_count": 25,
   "metadata": {},
   "outputs": [
    {
     "name": "stdout",
     "output_type": "stream",
     "text": [
      "package 'ROCit' successfully unpacked and MD5 sums checked\n",
      "\n",
      "The downloaded binary packages are in\n",
      "\tC:\\Users\\Swayanshu\\AppData\\Local\\Temp\\RtmpIVQPpD\\downloaded_packages\n"
     ]
    }
   ],
   "source": [
    "install.packages(\"ROCit\")"
   ]
  },
  {
   "cell_type": "code",
   "execution_count": 26,
   "metadata": {},
   "outputs": [
    {
     "name": "stderr",
     "output_type": "stream",
     "text": [
      "Warning message:\n",
      "\"package 'ROCit' was built under R version 3.6.3\""
     ]
    }
   ],
   "source": [
    "library(\"ROCit\")"
   ]
  },
  {
   "cell_type": "code",
   "execution_count": 32,
   "metadata": {},
   "outputs": [
    {
     "ename": "ERROR",
     "evalue": "Error in convertclass(class, reference = negref): class must have exactly two unique values\n",
     "output_type": "error",
     "traceback": [
      "Error in convertclass(class, reference = negref): class must have exactly two unique values\nTraceback:\n",
      "1. rocit(score = t2$nondemented, class = t2$demented, method = \"bin\")",
      "2. convertclass(class, reference = negref)",
      "3. stop(\"class must have exactly two unique values\")"
     ]
    }
   ],
   "source": [
    "roc_binormal <- rocit(score = t2$nondemented, \n",
    "                      class = t2$demented, \n",
    "                      method = \"bin\") "
   ]
  },
  {
   "cell_type": "code",
   "execution_count": 28,
   "metadata": {},
   "outputs": [
    {
     "name": "stdout",
     "output_type": "stream",
     "text": [
      "                         \n",
      " Method used: binormal   \n",
      " Number of positive(s): 1\n",
      " Number of negative(s): 1\n",
      " Area under curve: NaN   \n"
     ]
    }
   ],
   "source": [
    "summary(roc_binormal)"
   ]
  },
  {
   "cell_type": "code",
   "execution_count": null,
   "metadata": {},
   "outputs": [],
   "source": []
  },
  {
   "cell_type": "code",
   "execution_count": 19,
   "metadata": {},
   "outputs": [
    {
     "data": {
      "text/html": [
       "1"
      ],
      "text/latex": [
       "1"
      ],
      "text/markdown": [
       "1"
      ],
      "text/plain": [
       "Area under the curve: 1"
      ]
     },
     "metadata": {},
     "output_type": "display_data"
    }
   ],
   "source": [
    "auc(roc3)"
   ]
  },
  {
   "cell_type": "code",
   "execution_count": 39,
   "metadata": {},
   "outputs": [
    {
     "data": {
      "text/plain": [
       "\n",
       "\tFisher's Exact Test for Count Data\n",
       "\n",
       "data:  t2$nondemented and t2$demented\n",
       "p-value = 1\n",
       "alternative hypothesis: two.sided\n"
      ]
     },
     "metadata": {},
     "output_type": "display_data"
    }
   ],
   "source": [
    "fisher.test(t2$nondemented, t2$demented)"
   ]
  },
  {
   "cell_type": "code",
   "execution_count": null,
   "metadata": {},
   "outputs": [],
   "source": []
  },
  {
   "cell_type": "code",
   "execution_count": null,
   "metadata": {},
   "outputs": [],
   "source": []
  },
  {
   "cell_type": "code",
   "execution_count": null,
   "metadata": {},
   "outputs": [],
   "source": []
  }
 ],
 "metadata": {
  "kernelspec": {
   "display_name": "R",
   "language": "R",
   "name": "ir"
  },
  "language_info": {
   "codemirror_mode": "r",
   "file_extension": ".r",
   "mimetype": "text/x-r-source",
   "name": "R",
   "pygments_lexer": "r",
   "version": "3.6.1"
  }
 },
 "nbformat": 4,
 "nbformat_minor": 4
}
